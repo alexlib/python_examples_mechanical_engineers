{
  "cells": [
    {
      "cell_type": "markdown",
      "source": [
        "# Python for Mechanical Engineers\n",
        "\n## Solving basic engineering problem with Python"
      ],
      "metadata": {
        "collapsed": false,
        "outputHidden": false,
        "inputHidden": false
      }
    },
    {
      "cell_type": "code",
      "source": [
        "# source: https://www.youtube.com/watch?v=tnoAro7whYw"
      ],
      "outputs": [],
      "execution_count": 2,
      "metadata": {
        "collapsed": false,
        "outputHidden": false,
        "inputHidden": false
      }
    },
    {
      "cell_type": "code",
      "source": [
        "from IPython.display import HTML\n",
        "# Youtube\n",
        "HTML('<iframe width=\"560\" height=\"315\" src=\"https://www.youtube.com/embed/tnoAro7whYw?rel=0&amp;controls=0&amp;showinfo=0\" frameborder=\"0\" allowfullscreen></iframe>')\n"
      ],
      "outputs": [
        {
          "output_type": "execute_result",
          "execution_count": 15,
          "data": {
            "text/plain": [
              "<IPython.core.display.HTML object>"
            ],
            "text/html": [
              "<iframe width=\"560\" height=\"315\" src=\"https://www.youtube.com/embed/tnoAro7whYw?rel=0&amp;controls=0&amp;showinfo=0\" frameborder=\"0\" allowfullscreen></iframe>"
            ]
          },
          "metadata": {}
        }
      ],
      "execution_count": 15,
      "metadata": {
        "collapsed": false,
        "outputHidden": false,
        "inputHidden": false
      }
    },
    {
      "cell_type": "markdown",
      "source": [
        "## The problem \n",
        "Would a tank of radius = 5 m, and height = 10 m be overfilled if the influx of water is 15 m$^3$/min within two hours? "
      ],
      "metadata": {
        "collapsed": false,
        "outputHidden": false,
        "inputHidden": false
      }
    },
    {
      "cell_type": "markdown",
      "source": [
        "## Basic formulae\n",
        "The volume of the tank:\n",
        "$V = \\pi r^2 h$\n",
        "\n",
        "The volume of the fluid accumulated in time\n",
        "$V_{f} = Q \\times t$ where $Q$ is a volumetric flow rate in units of (m$^3$/min) and time shall be given in minutes. \n",
        "\n",
        "The test for the overfill\n",
        "$V < V_f$? \n"
      ],
      "metadata": {
        "collapsed": false,
        "outputHidden": false,
        "inputHidden": false
      }
    },
    {
      "cell_type": "code",
      "source": [
        "# definitions:\n",
        "r = 5 # radius, (m)\n",
        "h = 10 # height, (m)\n",
        "Q = 15 # flow rate (m^3/min)\n",
        "pi = 3.14159 # or use from math import pi\n"
      ],
      "outputs": [],
      "execution_count": 17,
      "metadata": {
        "collapsed": false,
        "outputHidden": false,
        "inputHidden": false
      }
    },
    {
      "cell_type": "code",
      "source": [
        "from math import pi\n",
        "V_tank = pi * r**2 * h\n",
        "\n",
        "t = 120 # time, (min)\n",
        "V_in = Q * t"
      ],
      "outputs": [],
      "execution_count": 20,
      "metadata": {
        "collapsed": false,
        "outputHidden": false,
        "inputHidden": false
      }
    },
    {
      "cell_type": "code",
      "source": [
        "if V_in > V_tank:\n",
        "    print(\"Tank overfilled by \" + str(V_in - V_tank) + \" m^3\")\n",
        "else:\n",
        "    print(\"Safe\")"
      ],
      "outputs": [
        {
          "output_type": "stream",
          "name": "stdout",
          "text": [
            "Tank overfilled by 1014.6018366025517 m^3\n"
          ]
        }
      ],
      "execution_count": 21,
      "metadata": {
        "collapsed": false,
        "outputHidden": false,
        "inputHidden": false
      }
    },
    {
      "cell_type": "code",
      "source": [
        "# let's plot the process\n",
        "# import a plotting package, matplotlib \n",
        "import matplotlib.pyplot as plt\n",
        "# import a numerical package numpy that allows to multiply a scalar by vector\n",
        "import numpy as np\n",
        "\n",
        "t = np.arange(0,120)\n",
        "\n",
        "plt.figure(figsize=(8,6))\n",
        "plt.plot(t,Q*t,'--')\n",
        "plt.plot([0,120],[V_tank,V_tank])\n",
        "plt.xlabel('$t$ (min)',fontsize=18)\n",
        "plt.ylabel('$V$ (m$^3$/min)',fontsize=18);\n",
        "plt.legend((r'$V_f$',r'$V_{\\mathrm{tank}}$'),fontsize=16);\n"
      ],
      "outputs": [
        {
          "output_type": "display_data",
          "data": {
            "text/plain": [
              "<Figure size 576x432 with 1 Axes>"
            ],
            "image/png": "[encoded data removed]"
          },
          "metadata": {}
        }
      ],
      "execution_count": 56,
      "metadata": {
        "collapsed": false,
        "outputHidden": false,
        "inputHidden": false
      }
    },
    {
      "cell_type": "code",
      "source": [],
      "outputs": [],
      "execution_count": null,
      "metadata": {
        "collapsed": false,
        "outputHidden": false,
        "inputHidden": false
      }
    }
  ],
  "metadata": {
    "kernel_info": {
      "name": "python3"
    },
    "language_info": {
      "name": "python",
      "version": "3.6.4",
      "mimetype": "text/x-python",
      "codemirror_mode": {
        "name": "ipython",
        "version": 3
      },
      "pygments_lexer": "ipython3",
      "nbconvert_exporter": "python",
      "file_extension": ".py"
    },
    "kernelspec": {
      "name": "python3",
      "language": "python",
      "display_name": "Python 3"
    }
  },
  "nbformat": 4,
  "nbformat_minor": 4
}