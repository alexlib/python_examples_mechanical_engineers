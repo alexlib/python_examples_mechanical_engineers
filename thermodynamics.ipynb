{
  "cells": [
    {
      "cell_type": "markdown",
      "source": [
        "# Python for Mechanical Engineers"
      ],
      "metadata": {
        "collapsed": false,
        "outputHidden": false,
        "inputHidden": false
      }
    },
    {
      "cell_type": "code",
      "source": [
        "# source: https://github.com/vishwesh5/PythonForMechanicalEngineering/blob/master/otto_cycle.py"
      ],
      "outputs": [],
      "execution_count": 12,
      "metadata": {
        "collapsed": false,
        "outputHidden": false,
        "inputHidden": false
      }
    },
    {
      "cell_type": "markdown",
      "source": [
        "## Thermodynamics - Otto cycle\n",
        "\n",
        "An Otto cycle is an idealized thermodynamic cycle that describes the functioning of a typical spark ignition piston engine. It is the thermodynamic cycle most commonly found in automobile engines.\n",
        "\n![](http://www.learneasy.info/MDME/iTester/tests/10907_Engine_Performance/images/otto.gif)"
      ],
      "metadata": {
        "collapsed": false,
        "outputHidden": false,
        "inputHidden": false
      }
    },
    {
      "cell_type": "markdown",
      "source": [
        "\nThe Otto cycle is a description of what happens to a mass of gas as it is subjected to changes of pressure, temperature, volume, addition of heat, and removal of heat. The mass of gas that is subjected to those changes is called the system. The system, in this case, is defined to be the fluid (gas) within the cylinder. By describing the changes that take place within the system, it will also describe in inverse, the system's effect on the environment. In the case of the Otto cycle, the effect will be to produce enough net work from the system so as to propel an automobile and its occupants in the environment."
      ],
      "metadata": {}
    },
    {
      "cell_type": "code",
      "source": [
        "import numpy as np\n",
        "import matplotlib.pyplot as plt\n",
        "\n",
        "def getVFromTheta(theta,R,v_c,cr):\n",
        "    \"\"\"\n",
        "    Relation between V and theta\n",
        "    v/v_c = 1+0.5*(cr-1)*(R+1-cos(theta)-(R^2 - (sin(theta))^2)^(0.5))\n",
        "    \"\"\"\n",
        "    return v_c * (1+0.5*(cr-1)*(R+1-np.cos(theta)-(R**2 - np.sin(theta)**2)**0.5))\n",
        "\n",
        "# Inputs\n",
        "# Pressure\n",
        "p1 = 101325 # Pa\n",
        "# Temperature\n",
        "T1 = 500 # K\n",
        "T3 = 2300 # K\n",
        "gamma = 1.4 # compressibility\n",
        "\n",
        "# Geometry\n",
        "bore = 0.1\n",
        "stroke = 0.1\n",
        "con_rod = 0.15\n",
        "cr = 12\n",
        "# Crank pin radius\n",
        "a = stroke/2\n",
        "R = con_rod/a\n",
        "\n",
        "# Volume calculation\n",
        "# Stroke volume\n",
        "v_s = np.pi/4 * pow(bore,2) * stroke\n",
        "v_c = v_s/(cr-1)\n",
        "v1 = v_c + v_s\n",
        "\n",
        "# State point 2\n",
        "v2 = v_c\n",
        "\n",
        "# p2v2 ^ gamma = p1v1^gamma\n",
        "p2 = (p1*pow(v1,gamma))/(pow(v2,gamma))\n",
        "\n",
        "# Temperature\n",
        "# p1v1/T1 = p2v2/T2\n",
        "tmp = p1*v1/T1\n",
        "T2 = p2*v2/tmp\n",
        "\n",
        "theta = np.linspace(0,np.pi,100)\n",
        "v_compression = getVFromTheta(theta,R,v_c,cr)\n",
        "\n",
        "constant = p1*pow(v1,gamma)\n",
        "p_compression = [constant/pow(v,gamma) for v in v_compression]\n",
        "\n\n",
        "# State point 3\n",
        "v3 =  v2\n",
        "# p3v3/T3 = p2v2/T2\n",
        "tmp = p2*v2/T2\n",
        "p3 = tmp*T3/v3\n",
        "\n",
        "# State point 4\n",
        "v4 = v1\n",
        "\n",
        "# p4v4^gamma = p3v4^gamma\n",
        "p4 = p3*pow(v3,gamma)/pow(v4,gamma)\n",
        "\n",
        "theta = np.linspace(np.pi,2*np.pi,100)\n",
        "v_compression2 = getVFromTheta(theta,R,v_c,cr)\n",
        "\n",
        "constant = p3*pow(v3,gamma)\n",
        "p_compression2 = [constant/pow(v,gamma) for v in v_compression2]\n",
        "\n",
        "# p4v4/T4 = p3v3/T3\n",
        "tmp = p3*v3/T3\n",
        "T4 = p4*v4/tmp\n",
        "\n",
        "# Calculate thermal efficiency\n",
        "# We can also use:\n",
        "# eta_th = 1 - 1/(pow(cr,gamma-1))\n",
        "eta_th = 1 - (T4-T1)/(T3-T2)\n",
        "print(\"Thermal efficiency of the Otto cycle = {:.3f}%\".format(eta_th*100))\n"
      ],
      "outputs": [
        {
          "output_type": "stream",
          "name": "stdout",
          "text": [
            "Thermal efficiency of the otto cycle = 62.989%\n"
          ]
        },
        {
          "output_type": "execute_result",
          "execution_count": 3,
          "data": {
            "text/plain": [
              "<matplotlib.legend.Legend at 0x11f0c4d68>"
            ]
          },
          "metadata": {}
        }
      ],
      "execution_count": 3,
      "metadata": {
        "collapsed": false,
        "outputHidden": false,
        "inputHidden": false
      }
    },
    {
      "cell_type": "code",
      "source": [
        "\n",
        "# Plot the otto cycle\n",
        "\n",
        "plt.figure(\"Otto cyce\",figsize=(12,6))\n",
        "# Plot state points\n",
        "plt.plot([v1,v2,v3,v4,v1],[p1,p2,p3,p4,p1],'x',c='r',label='State points')\n",
        "# Plot from state 1 to 2\n",
        "plt.plot(v_compression,p_compression,'-',c='y',label='Compression')\n",
        "# Plot from state 2 to 3\n",
        "plt.plot([v2,v3],[p2,p3],'-',c='g',label='Heat injection')\n",
        "# Plot from state 3 to 4\n",
        "plt.plot(v_compression2,p_compression2,'-',c='b',label='Expansion')\n",
        "# Plot from state 4 to 1\n",
        "plt.plot([v4,v1],[p4,p1],'-',c='k',label='Heat rejection')\n",
        "plt.xlabel(\"Volume [m$^3$]\",fontsize=16)\n",
        "plt.ylabel(\"Pressure [Pa]\",fontsize=16)\n",
        "plt.title(\"Otto cycle\",fontsize=18)\n",
        "plt.legend(loc=1,fontsize=14)\n",
        "# Save figure\n",
        "# plt.savefig(\"Otto_cycle.png\")"
      ],
      "outputs": [
        {
          "output_type": "execute_result",
          "execution_count": 10,
          "data": {
            "text/plain": [
              "<matplotlib.legend.Legend at 0x120aaeeb8>"
            ]
          },
          "metadata": {}
        },
        {
          "output_type": "display_data",
          "data": {
            "text/plain": [
              "<Figure size 864x432 with 1 Axes>"
            ],
            "image/png": "[encoded data removed]"
          },
          "metadata": {}
        }
      ],
      "execution_count": 10,
      "metadata": {
        "collapsed": false,
        "outputHidden": false,
        "inputHidden": false
      }
    },
    {
      "cell_type": "code",
      "source": [],
      "outputs": [],
      "execution_count": null,
      "metadata": {
        "collapsed": false,
        "outputHidden": false,
        "inputHidden": false
      }
    }
  ],
  "metadata": {
    "kernel_info": {
      "name": "python3"
    },
    "language_info": {
      "name": "python",
      "version": "3.6.4",
      "mimetype": "text/x-python",
      "codemirror_mode": {
        "name": "ipython",
        "version": 3
      },
      "pygments_lexer": "ipython3",
      "nbconvert_exporter": "python",
      "file_extension": ".py"
    },
    "kernelspec": {
      "name": "python3",
      "language": "python",
      "display_name": "Python 3"
    },
    "gist_id": "f939b91e61f34137365bdf01dbb694fa",
    "nteract": {
      "version": "0.11.7"
    }
  },
  "nbformat": 4,
  "nbformat_minor": 4
}