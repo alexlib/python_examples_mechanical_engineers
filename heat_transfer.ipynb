{
  "cells": [
    {
      "cell_type": "markdown",
      "source": [
        "# Heat Transfer Equation"
      ],
      "metadata": {
        "collapsed": false,
        "outputHidden": false,
        "inputHidden": false
      }
    },
    {
      "cell_type": "code",
      "source": [
        "# source https://firsttimeprogrammer.blogspot.com/2015/07/the-heat-equation-python-implementation.html"
      ],
      "outputs": [],
      "execution_count": 4,
      "metadata": {}
    },
    {
      "cell_type": "markdown",
      "source": [
        "We are going to simulate the **transport of heat through an ideal rod**.\n",
        "\n\n",
        "Suppose you have a cylindrical rod whose ends are maintained at a fixed temperature and is heated at a certain x for a certain interval of time. Suppose that the temperature in each section with infinitesimal width dx is uniform so that we can describe the temperature in the rod using a function of only x and t. \n",
        "\n![](https://lh3.googleusercontent.com/-cff27bP9xgs/Vabctr3rg2I/AAAAAAAABI8/ywmYLJYaLlA/im_thumb%25255B1%25255D.jpg?imgmax=800)"
      ],
      "metadata": {
        "collapsed": false,
        "outputHidden": false,
        "inputHidden": false
      }
    },
    {
      "cell_type": "markdown",
      "source": [
        "Mathematically speaking, problem we are now facing is the following:\n",
        "\n",
        "$$\n",
        "\\begin{align}\n",
        "\\frac{\\partial u}{\\partial t} = k \\frac{\\partial^2 u}{\\partial x^2a} &   & 0 < t; 0 \\leq x \\leq L  \\\\\n",
        "u(x,0)  = f(x) & &  0 < x < L \\\\\n",
        "u(0,t) =  u(L,t) = 0 & & t > 0\n",
        "\\end{align}\n",
        "$$\n",
        "\n\n"
      ],
      "metadata": {}
    },
    {
      "cell_type": "markdown",
      "source": [
        "where $k$ is a constant called *thermal diffusivity* or *thermal conductivity* and is different according to the different materials. By using the method of separation of variables, we can find the solution we need and by applying the initial conditions we find a particular solution for $f(x) = sin(x)$ and $L = pi$ \n",
        "Our solution looks something like this:\n",
        "\n",
        "$$ u(x,t) = e^{-kt}\\, \\sin(x) $$\n",
        "\n",
        "Now we only need to evaluate our function at each x and t. Remember that if u(x,y) is differentiable, then:\n",
        "\n",
        "$$ f(x_0 + h, t_0 + l) = f(x_0,t_0) + \\frac{\\partial u}{\\partial x}(x_0,t_0)\\,h + \\frac{\\partial u}{\\partial t}(x_0,t_0)\\,l +\\mathcal{O}(\\sqrt{h^2+l^2}) $$\n",
        "\n",
        "holds. We can throw out the last term and approximate our function using the above relation since partial derivatives of u must exists and we can easily get them. Thinking about it, the second term is useless too, since we are not moving along the x axis, therefore we are left with the following:\n",
        "\n",
        "$$ f(x_0 + h, t_0 + l) \\approx f(x_0,t_0) + \\frac{\\partial u}{\\partial t}(x_0,t_0)\\,l $$\n",
        "\n"
      ],
      "metadata": {}
    },
    {
      "cell_type": "code",
      "source": [
        "import numpy as np\n",
        "from numpy import pi\n",
        "import matplotlib.pyplot as plt\n",
        "import matplotlib.animation as animation\n",
        "\n",
        "fig = plt.figure()\n",
        "fig.set_dpi(100)\n",
        "ax1 = fig.add_subplot(1,1,1)\n",
        "\n",
        "#Diffusion constant\n",
        "k = 2\n",
        "\n",
        "#Scaling factor (for visualisation purposes)\n",
        "scale = 5\n",
        "\n",
        "#Length of the rod (0,L) on the x axis\n",
        "L = pi\n",
        "\n",
        "#Initial contitions u(0,t) = u(L,t) = 0. Temperature at x=0 and x=L is fixed\n",
        "x0 = np.linspace(0,L+1,10000)\n",
        "t0 = 0\n",
        "temp0 = 5  #Temperature of the rod at rest (before heating)\n",
        "\n",
        "#Increment\n",
        "dt = 0.01\n",
        "\n",
        "#Heat function\n",
        "def u(x,t):\n",
        "    return temp0 + scale*np.exp(-k*t)*np.sin(x)\n",
        "\n",
        "#Gradient of u\n",
        "def grad_u(x,t):\n",
        "                               #du/dx              #du/dt\n",
        "    return scale*np.array([np.exp(-k*t)*np.cos(x),-k*np.exp(-k*t)*np.sin(x)])\n",
        "\n",
        "a = []\n",
        "t = []\n",
        "\n",
        "for i in range(500):\n",
        "    value = u(x0,t0) + grad_u(x0,t0)[1]*dt\n",
        "    t.append(t0)\n",
        "    t0 = t0 + dt\n",
        "    a.append(value)\n",
        "\n",
        "k = 0\n",
        "def animate(i):         #The plot shows the temperature evolving with time\n",
        "    global k            #at each point x in the rod\n",
        "    x = a[k]            #The ends of the rod are kept at temperature temp0\n",
        "    k += 1              #The rod is heated in one spot, then it cools down\n",
        "    ax1.clear()\n",
        "    plt.plot(x0,x,color='red',label='Temperature at each x')\n",
        "    plt.plot(0,0,color='red',label='Elapsed time '+str(round(t[k],2)))\n",
        "    plt.grid(True)\n",
        "    plt.ylim([temp0-2,2.5*scale])\n",
        "    plt.xlim([0,L])\n",
        "    plt.title('Heat equation')\n",
        "    plt.legend()\n",
        "    \n",
        "anim = animation.FuncAnimation(fig,animate,frames=360,interval=20)\n",
        "plt.show()"
      ],
      "outputs": [
        {
          "output_type": "display_data",
          "data": {
            "text/plain": [
              "<Figure size 600x400 with 1 Axes>"
            ],
            "image/png": "[encoded data removed]"
          },
          "metadata": {}
        }
      ],
      "execution_count": 5,
      "metadata": {}
    }
  ],
  "metadata": {
    "kernel_info": {
      "name": "python3"
    },
    "language_info": {
      "name": "python",
      "version": "3.6.4",
      "mimetype": "text/x-python",
      "codemirror_mode": {
        "name": "ipython",
        "version": 3
      },
      "pygments_lexer": "ipython3",
      "nbconvert_exporter": "python",
      "file_extension": ".py"
    },
    "kernelspec": {
      "name": "python3",
      "language": "python",
      "display_name": "Python 3"
    }
  },
  "nbformat": 4,
  "nbformat_minor": 4
}